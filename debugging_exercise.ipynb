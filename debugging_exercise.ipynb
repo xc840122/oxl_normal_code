{
 "cells": [
  {
   "cell_type": "code",
   "id": "bf7031c9-c727-4d5b-a984-b96431486918",
   "metadata": {
    "ExecuteTime": {
     "end_time": "2024-09-12T02:20:42.625804Z",
     "start_time": "2024-09-12T02:20:42.622789Z"
    }
   },
   "source": [],
   "outputs": [],
   "execution_count": 1
  },
  {
   "cell_type": "code",
   "id": "12f3afd3-c77c-42e4-b248-a19c0c3b6281",
   "metadata": {
    "ExecuteTime": {
     "end_time": "2024-09-12T02:59:14.044350Z",
     "start_time": "2024-09-12T02:59:14.039834Z"
    }
   },
   "source": [
    "def odd_or_even(number):\n",
    "    if number % 2 == 0:\n",
    "        return \"This is an even number.\"\n",
    "    else:\n",
    "        return \"This is an odd number.\""
   ],
   "outputs": [],
   "execution_count": 1
  },
  {
   "cell_type": "code",
   "id": "200e2796-b6d1-40b6-8208-51860659da1b",
   "metadata": {
    "ExecuteTime": {
     "end_time": "2024-09-12T03:40:50.142149Z",
     "start_time": "2024-09-12T03:40:50.136506Z"
    }
   },
   "source": [],
   "outputs": [],
   "execution_count": 1
  },
  {
   "cell_type": "code",
   "id": "81dc2a79-644e-4c07-8b52-cc9b41cc988c",
   "metadata": {
    "ExecuteTime": {
     "end_time": "2024-09-12T02:27:51.628325Z",
     "start_time": "2024-09-12T02:27:51.623766Z"
    }
   },
   "source": [
    "# This is how you work out whether if a particular year is a leap year.\n",
    "\n",
    "# - on every year that is divisible by 4 with no remainder\n",
    "\n",
    "# - except every year that is evenly divisible by 100 with no remainder\n",
    "\n",
    "# - unless the year is also divisible by 400 with no remainder\n",
    "def is_leap(year):\n",
    "    if year % 400 == 0:\n",
    "        return True\n",
    "    elif year % 4 == 0 and year % 100 != 0:\n",
    "        return True\n",
    "    else:\n",
    "        return False"
   ],
   "outputs": [],
   "execution_count": 10
  },
  {
   "cell_type": "code",
   "id": "b6fa224e-b7e4-4d4f-83d6-e468315a0d66",
   "metadata": {
    "ExecuteTime": {
     "end_time": "2024-09-12T02:20:42.672236Z",
     "start_time": "2024-09-12T02:20:42.670453Z"
    }
   },
   "source": [],
   "outputs": [],
   "execution_count": 3
  },
  {
   "cell_type": "code",
   "id": "d7e0a17b-ddaf-4e8f-ad4f-2eb2f6bf7f24",
   "metadata": {
    "ExecuteTime": {
     "end_time": "2024-09-12T02:37:46.459501Z",
     "start_time": "2024-09-12T02:37:46.453527Z"
    }
   },
   "source": [
    "# Target is the number up to which we count\n",
    "# The code needs to print the solution to the FizzBuzz game.   \n",
    "\n",
    "# - Your program should print each number from 1 to x where x is the input number. \n",
    "\n",
    "# - However when the number is divisible by 3 then instead of printing the number it should print \"Fizz\".   \n",
    "\n",
    "# - When the number is divisible by 5, then instead of printing the number it should print \"Buzz\". \n",
    "\n",
    "# - And if the number is divisible by both 3 and 5 e.g. 15 then instead of the number it should print \"FizzBuzz\".\n",
    "def fizz_buzz(target):\n",
    "    for number in range(1, target + 1):\n",
    "        if number % 3 == 0 and number % 5 == 0:\n",
    "            print(f\"{number} is a FizzBuzz\")\n",
    "        elif number % 3 == 0:\n",
    "            print(f\"{number} is a Fizz\")\n",
    "        elif number % 5 == 0:\n",
    "            print(f\"{number} is a Buzz\")\n",
    "        else:\n",
    "            print([number])"
   ],
   "outputs": [],
   "execution_count": 22
  },
  {
   "cell_type": "code",
   "id": "f0fcb9ed-4196-45f5-a1ab-482470c14324",
   "metadata": {
    "ExecuteTime": {
     "end_time": "2024-09-12T03:40:54.520783Z",
     "start_time": "2024-09-12T03:40:54.512602Z"
    }
   },
   "source": "odd_or_even(12)",
   "outputs": [
    {
     "data": {
      "text/plain": [
       "'This is an even number.'"
      ]
     },
     "execution_count": 2,
     "metadata": {},
     "output_type": "execute_result"
    }
   ],
   "execution_count": 2
  },
  {
   "cell_type": "code",
   "id": "51327e43-93b8-4088-9f5e-c9f2e2484ca1",
   "metadata": {
    "ExecuteTime": {
     "end_time": "2024-09-12T02:33:26.013969Z",
     "start_time": "2024-09-12T02:33:26.009305Z"
    }
   },
   "source": "is_leap(2000)",
   "outputs": [
    {
     "data": {
      "text/plain": [
       "True"
      ]
     },
     "execution_count": 16,
     "metadata": {},
     "output_type": "execute_result"
    }
   ],
   "execution_count": 16
  },
  {
   "cell_type": "code",
   "id": "4b1f3732-8e07-46e6-8306-618fc7462942",
   "metadata": {
    "ExecuteTime": {
     "end_time": "2024-09-12T02:37:53.515799Z",
     "start_time": "2024-09-12T02:37:53.511647Z"
    }
   },
   "source": "fizz_buzz(15)",
   "outputs": [
    {
     "name": "stdout",
     "output_type": "stream",
     "text": [
      "[1]\n",
      "[2]\n",
      "3 is a Fizz\n",
      "[4]\n",
      "5 is a Buzz\n",
      "6 is a Fizz\n",
      "[7]\n",
      "[8]\n",
      "9 is a Fizz\n",
      "10 is a Buzz\n",
      "[11]\n",
      "12 is a Fizz\n",
      "[13]\n",
      "[14]\n",
      "15 is a FizzBuzz\n"
     ]
    }
   ],
   "execution_count": 23
  },
  {
   "cell_type": "code",
   "id": "55fa77f0-547d-4d08-bfa6-1c14522a80a7",
   "metadata": {
    "ExecuteTime": {
     "end_time": "2024-09-12T02:34:23.510469Z",
     "start_time": "2024-09-12T02:34:23.507830Z"
    }
   },
   "source": [],
   "outputs": [],
   "execution_count": 17
  },
  {
   "cell_type": "code",
   "id": "5d9c5ebb-0521-49ae-a4ba-770dbfe951de",
   "metadata": {
    "ExecuteTime": {
     "end_time": "2024-09-12T02:20:42.693661Z",
     "start_time": "2024-09-12T02:20:42.692141Z"
    }
   },
   "source": [],
   "outputs": [],
   "execution_count": 4
  }
 ],
 "metadata": {
  "kernelspec": {
   "display_name": "Python 3 (ipykernel)",
   "language": "python",
   "name": "python3"
  },
  "language_info": {
   "codemirror_mode": {
    "name": "ipython",
    "version": 3
   },
   "file_extension": ".py",
   "mimetype": "text/x-python",
   "name": "python",
   "nbconvert_exporter": "python",
   "pygments_lexer": "ipython3",
   "version": "3.11.9"
  }
 },
 "nbformat": 4,
 "nbformat_minor": 5
}
