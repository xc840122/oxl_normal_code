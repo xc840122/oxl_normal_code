{
 "cells": [
  {
   "cell_type": "code",
   "execution_count": null,
   "id": "bf7031c9-c727-4d5b-a984-b96431486918",
   "metadata": {},
   "outputs": [],
   "source": []
  },
  {
   "cell_type": "code",
   "execution_count": null,
   "id": "12f3afd3-c77c-42e4-b248-a19c0c3b6281",
   "metadata": {},
   "outputs": [],
   "source": [
    "def odd_or_even(number):\n",
    "    if number % 2 = 0:\n",
    "        return \"This is an even number.\"\n",
    "    else:\n",
    "        return \"This is an odd number.\""
   ]
  },
  {
   "cell_type": "code",
   "execution_count": null,
   "id": "200e2796-b6d1-40b6-8208-51860659da1b",
   "metadata": {},
   "outputs": [],
   "source": []
  },
  {
   "cell_type": "code",
   "execution_count": 2,
   "id": "81dc2a79-644e-4c07-8b52-cc9b41cc988c",
   "metadata": {},
   "outputs": [],
   "source": [
    "# This is how you work out whether if a particular year is a leap year.\n",
    "\n",
    "# - on every year that is divisible by 4 with no remainder\n",
    "\n",
    "# - except every year that is evenly divisible by 100 with no remainder\n",
    "\n",
    "# - unless the year is also divisible by 400 with no remainder\n",
    "def is_leap(year):\n",
    "    if year % 4 == 0:\n",
    "        if year % 100 == 0:\n",
    "            if year % 4000 == 0:\n",
    "                return True\n",
    "            else:\n",
    "                return False\n",
    "        else:\n",
    "            return True\n",
    "    else:\n",
    "        return False"
   ]
  },
  {
   "cell_type": "code",
   "execution_count": null,
   "id": "b6fa224e-b7e4-4d4f-83d6-e468315a0d66",
   "metadata": {},
   "outputs": [],
   "source": []
  },
  {
   "cell_type": "code",
   "execution_count": 8,
   "id": "d7e0a17b-ddaf-4e8f-ad4f-2eb2f6bf7f24",
   "metadata": {},
   "outputs": [],
   "source": [
    "# Target is the number up to which we count\n",
    "# The code needs to print the solution to the FizzBuzz game.   \n",
    "\n",
    "# - Your program should print each number from 1 to x where x is the input number. \n",
    "\n",
    "# - However when the number is divisible by 3 then instead of printing the number it should print \"Fizz\".   \n",
    "\n",
    "# - When the number is divisible by 5, then instead of printing the number it should print \"Buzz\". \n",
    "\n",
    "# - And if the number is divisible by both 3 and 5 e.g. 15 then instead of the number it should print \"FizzBuzz\".\n",
    "def fizz_buzz(target):\n",
    "    for number in range(1, target + 1):\n",
    "        if number % 3 == 0 or number % 5 == 0:\n",
    "            print(f\"{number} is a FizzBuzz\")\n",
    "        if number % 3 == 0:\n",
    "            print(f\"{number} is a Fizz\")\n",
    "        if number % 5 == 0:\n",
    "            print(f\"{number} is a Buzz\")\n",
    "        else:\n",
    "            print([number])"
   ]
  },
  {
   "cell_type": "code",
   "execution_count": null,
   "id": "f0fcb9ed-4196-45f5-a1ab-482470c14324",
   "metadata": {},
   "outputs": [],
   "source": []
  },
  {
   "cell_type": "code",
   "execution_count": null,
   "id": "51327e43-93b8-4088-9f5e-c9f2e2484ca1",
   "metadata": {},
   "outputs": [],
   "source": []
  },
  {
   "cell_type": "code",
   "execution_count": null,
   "id": "4b1f3732-8e07-46e6-8306-618fc7462942",
   "metadata": {},
   "outputs": [],
   "source": []
  },
  {
   "cell_type": "code",
   "execution_count": null,
   "id": "55fa77f0-547d-4d08-bfa6-1c14522a80a7",
   "metadata": {},
   "outputs": [],
   "source": []
  },
  {
   "cell_type": "code",
   "execution_count": null,
   "id": "5d9c5ebb-0521-49ae-a4ba-770dbfe951de",
   "metadata": {},
   "outputs": [],
   "source": []
  }
 ],
 "metadata": {
  "kernelspec": {
   "display_name": "Python 3 (ipykernel)",
   "language": "python",
   "name": "python3"
  },
  "language_info": {
   "codemirror_mode": {
    "name": "ipython",
    "version": 3
   },
   "file_extension": ".py",
   "mimetype": "text/x-python",
   "name": "python",
   "nbconvert_exporter": "python",
   "pygments_lexer": "ipython3",
   "version": "3.11.9"
  }
 },
 "nbformat": 4,
 "nbformat_minor": 5
}
